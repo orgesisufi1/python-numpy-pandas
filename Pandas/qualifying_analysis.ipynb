{
 "cells": [
  {
   "cell_type": "code",
   "execution_count": 1,
   "id": "51fba1d7-e02b-4031-90f4-c8affd50d8f4",
   "metadata": {},
   "outputs": [],
   "source": [
    "import pandas as pd"
   ]
  },
  {
   "cell_type": "markdown",
   "id": "a9e631c8-4157-4771-b648-4cf41cd715f1",
   "metadata": {},
   "source": [
    "## Read the dataset"
   ]
  },
  {
   "cell_type": "code",
   "execution_count": 3,
   "id": "a8c2bfeb-0058-4d10-bc0d-174508766835",
   "metadata": {},
   "outputs": [],
   "source": [
    "df = pd.read_csv('../../../sample_data/qualifying.csv')"
   ]
  },
  {
   "cell_type": "code",
   "execution_count": 4,
   "id": "5b3e48fe-e68f-4055-87c6-394ab78ff14d",
   "metadata": {},
   "outputs": [
    {
     "data": {
      "text/html": [
       "<div>\n",
       "<style scoped>\n",
       "    .dataframe tbody tr th:only-of-type {\n",
       "        vertical-align: middle;\n",
       "    }\n",
       "\n",
       "    .dataframe tbody tr th {\n",
       "        vertical-align: top;\n",
       "    }\n",
       "\n",
       "    .dataframe thead th {\n",
       "        text-align: right;\n",
       "    }\n",
       "</style>\n",
       "<table border=\"1\" class=\"dataframe\">\n",
       "  <thead>\n",
       "    <tr style=\"text-align: right;\">\n",
       "      <th></th>\n",
       "      <th>qualifyId</th>\n",
       "      <th>raceId</th>\n",
       "      <th>driverId</th>\n",
       "      <th>constructorId</th>\n",
       "      <th>number</th>\n",
       "      <th>position</th>\n",
       "      <th>q1</th>\n",
       "      <th>q2</th>\n",
       "      <th>q3</th>\n",
       "    </tr>\n",
       "  </thead>\n",
       "  <tbody>\n",
       "    <tr>\n",
       "      <th>0</th>\n",
       "      <td>1</td>\n",
       "      <td>18</td>\n",
       "      <td>1</td>\n",
       "      <td>1</td>\n",
       "      <td>22</td>\n",
       "      <td>1</td>\n",
       "      <td>1:26.572</td>\n",
       "      <td>1:25.187</td>\n",
       "      <td>1:26.714</td>\n",
       "    </tr>\n",
       "    <tr>\n",
       "      <th>1</th>\n",
       "      <td>2</td>\n",
       "      <td>18</td>\n",
       "      <td>9</td>\n",
       "      <td>2</td>\n",
       "      <td>4</td>\n",
       "      <td>2</td>\n",
       "      <td>1:26.103</td>\n",
       "      <td>1:25.315</td>\n",
       "      <td>1:26.869</td>\n",
       "    </tr>\n",
       "    <tr>\n",
       "      <th>2</th>\n",
       "      <td>3</td>\n",
       "      <td>18</td>\n",
       "      <td>5</td>\n",
       "      <td>1</td>\n",
       "      <td>23</td>\n",
       "      <td>3</td>\n",
       "      <td>1:25.664</td>\n",
       "      <td>1:25.452</td>\n",
       "      <td>1:27.079</td>\n",
       "    </tr>\n",
       "    <tr>\n",
       "      <th>3</th>\n",
       "      <td>4</td>\n",
       "      <td>18</td>\n",
       "      <td>13</td>\n",
       "      <td>6</td>\n",
       "      <td>2</td>\n",
       "      <td>4</td>\n",
       "      <td>1:25.994</td>\n",
       "      <td>1:25.691</td>\n",
       "      <td>1:27.178</td>\n",
       "    </tr>\n",
       "    <tr>\n",
       "      <th>4</th>\n",
       "      <td>5</td>\n",
       "      <td>18</td>\n",
       "      <td>2</td>\n",
       "      <td>2</td>\n",
       "      <td>3</td>\n",
       "      <td>5</td>\n",
       "      <td>1:25.960</td>\n",
       "      <td>1:25.518</td>\n",
       "      <td>1:27.236</td>\n",
       "    </tr>\n",
       "  </tbody>\n",
       "</table>\n",
       "</div>"
      ],
      "text/plain": [
       "   qualifyId  raceId  driverId  constructorId  number  position        q1  \\\n",
       "0          1      18         1              1      22         1  1:26.572   \n",
       "1          2      18         9              2       4         2  1:26.103   \n",
       "2          3      18         5              1      23         3  1:25.664   \n",
       "3          4      18        13              6       2         4  1:25.994   \n",
       "4          5      18         2              2       3         5  1:25.960   \n",
       "\n",
       "         q2        q3  \n",
       "0  1:25.187  1:26.714  \n",
       "1  1:25.315  1:26.869  \n",
       "2  1:25.452  1:27.079  \n",
       "3  1:25.691  1:27.178  \n",
       "4  1:25.518  1:27.236  "
      ]
     },
     "execution_count": 4,
     "metadata": {},
     "output_type": "execute_result"
    }
   ],
   "source": [
    "df.head()"
   ]
  },
  {
   "cell_type": "code",
   "execution_count": 5,
   "id": "76c40952-e570-4ba7-9774-bdf8679df3ae",
   "metadata": {},
   "outputs": [
    {
     "name": "stdout",
     "output_type": "stream",
     "text": [
      "<class 'pandas.core.frame.DataFrame'>\n",
      "RangeIndex: 10254 entries, 0 to 10253\n",
      "Data columns (total 9 columns):\n",
      " #   Column         Non-Null Count  Dtype \n",
      "---  ------         --------------  ----- \n",
      " 0   qualifyId      10254 non-null  int64 \n",
      " 1   raceId         10254 non-null  int64 \n",
      " 2   driverId       10254 non-null  int64 \n",
      " 3   constructorId  10254 non-null  int64 \n",
      " 4   number         10254 non-null  int64 \n",
      " 5   position       10254 non-null  int64 \n",
      " 6   q1             10254 non-null  object\n",
      " 7   q2             10241 non-null  object\n",
      " 8   q3             10227 non-null  object\n",
      "dtypes: int64(6), object(3)\n",
      "memory usage: 721.1+ KB\n"
     ]
    }
   ],
   "source": [
    "df.info()"
   ]
  },
  {
   "cell_type": "markdown",
   "id": "4d1ffb77-5f77-463e-9af3-1c4523c2ef27",
   "metadata": {},
   "source": [
    "## Split a column"
   ]
  },
  {
   "cell_type": "code",
   "execution_count": 7,
   "id": "355fd706-8172-48d6-bded-0ee03e45681f",
   "metadata": {},
   "outputs": [],
   "source": [
    "df[['q1_minute', 'q1_second', 'q1_millisecond']] = df['q1'].str.extract(r'(\\d+):(\\d+)\\.(\\d+)')\n",
    "df['q1_minute'] = pd.to_numeric(df['q1_minute'], errors='coerce')\n",
    "df['q1_second'] = pd.to_numeric(df['q1_second'], errors='coerce')\n",
    "df['q1_millisecond'] = pd.to_numeric(df['q1_millisecond'], errors='coerce')"
   ]
  },
  {
   "cell_type": "code",
   "execution_count": 8,
   "id": "d24c94c7-9cc0-494e-804d-2cd3bd47ce4b",
   "metadata": {},
   "outputs": [],
   "source": [
    "df.drop(columns='q1',inplace=True)"
   ]
  },
  {
   "cell_type": "code",
   "execution_count": 9,
   "id": "4a164f23-05a1-41b5-89ca-59c36caeb928",
   "metadata": {},
   "outputs": [],
   "source": [
    "df[['q2_minute', 'q2_second', 'q2_millisecond']] = df['q2'].str.extract(r'(\\d+):(\\d+)\\.(\\d+)')\n",
    "df['q2_minute'] = pd.to_numeric(df['q2_minute'], errors='coerce')\n",
    "df['q2_second'] = pd.to_numeric(df['q2_second'], errors='coerce')\n",
    "df['q2_millisecond'] = pd.to_numeric(df['q2_millisecond'], errors='coerce')"
   ]
  },
  {
   "cell_type": "code",
   "execution_count": 10,
   "id": "cda33f90-529d-438a-8d02-e293005bd531",
   "metadata": {},
   "outputs": [],
   "source": [
    "df.drop(columns='q2',inplace=True)"
   ]
  },
  {
   "cell_type": "code",
   "execution_count": 11,
   "id": "dbd2daf0-7f81-4c20-b5ba-7414fdd3b7fa",
   "metadata": {},
   "outputs": [],
   "source": [
    "df[['q3_minute', 'q3_second', 'q3_millisecond']] = df['q3'].str.extract(r'(\\d+):(\\d+)\\.(\\d+)')\n",
    "df['q3_minute'] = pd.to_numeric(df['q3_minute'], errors='coerce')\n",
    "df['q3_second'] = pd.to_numeric(df['q3_second'], errors='coerce')\n",
    "df['q3_millisecond'] = pd.to_numeric(df['q3_millisecond'], errors='coerce')"
   ]
  },
  {
   "cell_type": "code",
   "execution_count": 12,
   "id": "109cb5eb-ee5b-4fa9-9a18-d3ab2731434f",
   "metadata": {},
   "outputs": [],
   "source": [
    "df.drop(columns='q3',inplace=True)"
   ]
  },
  {
   "cell_type": "markdown",
   "id": "8ad56fd4-316e-4c45-a13c-240d20057f5b",
   "metadata": {},
   "source": [
    "## Missing values"
   ]
  },
  {
   "cell_type": "code",
   "execution_count": 14,
   "id": "391b97a4-11fe-4f5f-b468-80d099f098ac",
   "metadata": {},
   "outputs": [],
   "source": [
    "df.interpolate(method='linear', inplace=True)"
   ]
  },
  {
   "cell_type": "code",
   "execution_count": 15,
   "id": "6b57ff72-8787-42e5-bd3e-044f6d7a952d",
   "metadata": {},
   "outputs": [
    {
     "data": {
      "text/html": [
       "<div>\n",
       "<style scoped>\n",
       "    .dataframe tbody tr th:only-of-type {\n",
       "        vertical-align: middle;\n",
       "    }\n",
       "\n",
       "    .dataframe tbody tr th {\n",
       "        vertical-align: top;\n",
       "    }\n",
       "\n",
       "    .dataframe thead th {\n",
       "        text-align: right;\n",
       "    }\n",
       "</style>\n",
       "<table border=\"1\" class=\"dataframe\">\n",
       "  <thead>\n",
       "    <tr style=\"text-align: right;\">\n",
       "      <th></th>\n",
       "      <th>qualifyId</th>\n",
       "      <th>raceId</th>\n",
       "      <th>driverId</th>\n",
       "      <th>constructorId</th>\n",
       "      <th>number</th>\n",
       "      <th>position</th>\n",
       "      <th>q1_minute</th>\n",
       "      <th>q1_second</th>\n",
       "      <th>q1_millisecond</th>\n",
       "      <th>q2_minute</th>\n",
       "      <th>q2_second</th>\n",
       "      <th>q2_millisecond</th>\n",
       "      <th>q3_minute</th>\n",
       "      <th>q3_second</th>\n",
       "      <th>q3_millisecond</th>\n",
       "    </tr>\n",
       "  </thead>\n",
       "  <tbody>\n",
       "    <tr>\n",
       "      <th>0</th>\n",
       "      <td>1</td>\n",
       "      <td>18</td>\n",
       "      <td>1</td>\n",
       "      <td>1</td>\n",
       "      <td>22</td>\n",
       "      <td>1</td>\n",
       "      <td>1.0</td>\n",
       "      <td>26.0</td>\n",
       "      <td>572.0</td>\n",
       "      <td>1.0</td>\n",
       "      <td>25.0</td>\n",
       "      <td>187.0</td>\n",
       "      <td>1.0</td>\n",
       "      <td>26.0</td>\n",
       "      <td>714.0</td>\n",
       "    </tr>\n",
       "    <tr>\n",
       "      <th>1</th>\n",
       "      <td>2</td>\n",
       "      <td>18</td>\n",
       "      <td>9</td>\n",
       "      <td>2</td>\n",
       "      <td>4</td>\n",
       "      <td>2</td>\n",
       "      <td>1.0</td>\n",
       "      <td>26.0</td>\n",
       "      <td>103.0</td>\n",
       "      <td>1.0</td>\n",
       "      <td>25.0</td>\n",
       "      <td>315.0</td>\n",
       "      <td>1.0</td>\n",
       "      <td>26.0</td>\n",
       "      <td>869.0</td>\n",
       "    </tr>\n",
       "    <tr>\n",
       "      <th>2</th>\n",
       "      <td>3</td>\n",
       "      <td>18</td>\n",
       "      <td>5</td>\n",
       "      <td>1</td>\n",
       "      <td>23</td>\n",
       "      <td>3</td>\n",
       "      <td>1.0</td>\n",
       "      <td>25.0</td>\n",
       "      <td>664.0</td>\n",
       "      <td>1.0</td>\n",
       "      <td>25.0</td>\n",
       "      <td>452.0</td>\n",
       "      <td>1.0</td>\n",
       "      <td>27.0</td>\n",
       "      <td>79.0</td>\n",
       "    </tr>\n",
       "    <tr>\n",
       "      <th>3</th>\n",
       "      <td>4</td>\n",
       "      <td>18</td>\n",
       "      <td>13</td>\n",
       "      <td>6</td>\n",
       "      <td>2</td>\n",
       "      <td>4</td>\n",
       "      <td>1.0</td>\n",
       "      <td>25.0</td>\n",
       "      <td>994.0</td>\n",
       "      <td>1.0</td>\n",
       "      <td>25.0</td>\n",
       "      <td>691.0</td>\n",
       "      <td>1.0</td>\n",
       "      <td>27.0</td>\n",
       "      <td>178.0</td>\n",
       "    </tr>\n",
       "    <tr>\n",
       "      <th>4</th>\n",
       "      <td>5</td>\n",
       "      <td>18</td>\n",
       "      <td>2</td>\n",
       "      <td>2</td>\n",
       "      <td>3</td>\n",
       "      <td>5</td>\n",
       "      <td>1.0</td>\n",
       "      <td>25.0</td>\n",
       "      <td>960.0</td>\n",
       "      <td>1.0</td>\n",
       "      <td>25.0</td>\n",
       "      <td>518.0</td>\n",
       "      <td>1.0</td>\n",
       "      <td>27.0</td>\n",
       "      <td>236.0</td>\n",
       "    </tr>\n",
       "    <tr>\n",
       "      <th>...</th>\n",
       "      <td>...</td>\n",
       "      <td>...</td>\n",
       "      <td>...</td>\n",
       "      <td>...</td>\n",
       "      <td>...</td>\n",
       "      <td>...</td>\n",
       "      <td>...</td>\n",
       "      <td>...</td>\n",
       "      <td>...</td>\n",
       "      <td>...</td>\n",
       "      <td>...</td>\n",
       "      <td>...</td>\n",
       "      <td>...</td>\n",
       "      <td>...</td>\n",
       "      <td>...</td>\n",
       "    </tr>\n",
       "    <tr>\n",
       "      <th>10249</th>\n",
       "      <td>10307</td>\n",
       "      <td>1132</td>\n",
       "      <td>822</td>\n",
       "      <td>15</td>\n",
       "      <td>77</td>\n",
       "      <td>16</td>\n",
       "      <td>1.0</td>\n",
       "      <td>32.0</td>\n",
       "      <td>431.0</td>\n",
       "      <td>1.0</td>\n",
       "      <td>27.0</td>\n",
       "      <td>949.0</td>\n",
       "      <td>1.0</td>\n",
       "      <td>26.0</td>\n",
       "      <td>917.0</td>\n",
       "    </tr>\n",
       "    <tr>\n",
       "      <th>10250</th>\n",
       "      <td>10308</td>\n",
       "      <td>1132</td>\n",
       "      <td>825</td>\n",
       "      <td>210</td>\n",
       "      <td>20</td>\n",
       "      <td>17</td>\n",
       "      <td>1.0</td>\n",
       "      <td>32.0</td>\n",
       "      <td>905.0</td>\n",
       "      <td>1.0</td>\n",
       "      <td>27.0</td>\n",
       "      <td>949.0</td>\n",
       "      <td>1.0</td>\n",
       "      <td>26.0</td>\n",
       "      <td>917.0</td>\n",
       "    </tr>\n",
       "    <tr>\n",
       "      <th>10251</th>\n",
       "      <td>10309</td>\n",
       "      <td>1132</td>\n",
       "      <td>839</td>\n",
       "      <td>214</td>\n",
       "      <td>31</td>\n",
       "      <td>18</td>\n",
       "      <td>1.0</td>\n",
       "      <td>34.0</td>\n",
       "      <td>557.0</td>\n",
       "      <td>1.0</td>\n",
       "      <td>27.0</td>\n",
       "      <td>949.0</td>\n",
       "      <td>1.0</td>\n",
       "      <td>26.0</td>\n",
       "      <td>917.0</td>\n",
       "    </tr>\n",
       "    <tr>\n",
       "      <th>10252</th>\n",
       "      <td>10310</td>\n",
       "      <td>1132</td>\n",
       "      <td>815</td>\n",
       "      <td>9</td>\n",
       "      <td>11</td>\n",
       "      <td>19</td>\n",
       "      <td>1.0</td>\n",
       "      <td>38.0</td>\n",
       "      <td>348.0</td>\n",
       "      <td>1.0</td>\n",
       "      <td>27.0</td>\n",
       "      <td>949.0</td>\n",
       "      <td>1.0</td>\n",
       "      <td>26.0</td>\n",
       "      <td>917.0</td>\n",
       "    </tr>\n",
       "    <tr>\n",
       "      <th>10253</th>\n",
       "      <td>10311</td>\n",
       "      <td>1132</td>\n",
       "      <td>842</td>\n",
       "      <td>214</td>\n",
       "      <td>10</td>\n",
       "      <td>20</td>\n",
       "      <td>1.0</td>\n",
       "      <td>39.0</td>\n",
       "      <td>804.0</td>\n",
       "      <td>1.0</td>\n",
       "      <td>27.0</td>\n",
       "      <td>949.0</td>\n",
       "      <td>1.0</td>\n",
       "      <td>26.0</td>\n",
       "      <td>917.0</td>\n",
       "    </tr>\n",
       "  </tbody>\n",
       "</table>\n",
       "<p>10254 rows × 15 columns</p>\n",
       "</div>"
      ],
      "text/plain": [
       "       qualifyId  raceId  driverId  constructorId  number  position  \\\n",
       "0              1      18         1              1      22         1   \n",
       "1              2      18         9              2       4         2   \n",
       "2              3      18         5              1      23         3   \n",
       "3              4      18        13              6       2         4   \n",
       "4              5      18         2              2       3         5   \n",
       "...          ...     ...       ...            ...     ...       ...   \n",
       "10249      10307    1132       822             15      77        16   \n",
       "10250      10308    1132       825            210      20        17   \n",
       "10251      10309    1132       839            214      31        18   \n",
       "10252      10310    1132       815              9      11        19   \n",
       "10253      10311    1132       842            214      10        20   \n",
       "\n",
       "       q1_minute  q1_second  q1_millisecond  q2_minute  q2_second  \\\n",
       "0            1.0       26.0           572.0        1.0       25.0   \n",
       "1            1.0       26.0           103.0        1.0       25.0   \n",
       "2            1.0       25.0           664.0        1.0       25.0   \n",
       "3            1.0       25.0           994.0        1.0       25.0   \n",
       "4            1.0       25.0           960.0        1.0       25.0   \n",
       "...          ...        ...             ...        ...        ...   \n",
       "10249        1.0       32.0           431.0        1.0       27.0   \n",
       "10250        1.0       32.0           905.0        1.0       27.0   \n",
       "10251        1.0       34.0           557.0        1.0       27.0   \n",
       "10252        1.0       38.0           348.0        1.0       27.0   \n",
       "10253        1.0       39.0           804.0        1.0       27.0   \n",
       "\n",
       "       q2_millisecond  q3_minute  q3_second  q3_millisecond  \n",
       "0               187.0        1.0       26.0           714.0  \n",
       "1               315.0        1.0       26.0           869.0  \n",
       "2               452.0        1.0       27.0            79.0  \n",
       "3               691.0        1.0       27.0           178.0  \n",
       "4               518.0        1.0       27.0           236.0  \n",
       "...               ...        ...        ...             ...  \n",
       "10249           949.0        1.0       26.0           917.0  \n",
       "10250           949.0        1.0       26.0           917.0  \n",
       "10251           949.0        1.0       26.0           917.0  \n",
       "10252           949.0        1.0       26.0           917.0  \n",
       "10253           949.0        1.0       26.0           917.0  \n",
       "\n",
       "[10254 rows x 15 columns]"
      ]
     },
     "execution_count": 15,
     "metadata": {},
     "output_type": "execute_result"
    }
   ],
   "source": [
    "df"
   ]
  },
  {
   "cell_type": "markdown",
   "id": "8d6e1ba4-0210-4938-95b8-b1b45255de7f",
   "metadata": {},
   "source": [
    "## Race statistics"
   ]
  },
  {
   "cell_type": "code",
   "execution_count": 17,
   "id": "96bfe3fe-f800-4175-b484-0f62d5504707",
   "metadata": {},
   "outputs": [],
   "source": [
    "df['q1_total_milliseconds'] = (\n",
    "    df['q1_minute'] * 60 * 1000 +\n",
    "    df['q1_second'] * 1000 +\n",
    "    df['q1_millisecond']\n",
    ")\n",
    "\n",
    "df['q2_total_milliseconds'] = (\n",
    "    df['q2_minute'] * 60 * 1000 +\n",
    "    df['q2_second'] * 1000 +\n",
    "    df['q2_millisecond']\n",
    ")\n",
    "\n",
    "df['q3_total_milliseconds'] = (\n",
    "    df['q3_minute'] * 60 * 1000 +\n",
    "    df['q3_second'] * 1000 +\n",
    "    df['q3_millisecond']\n",
    ")\n"
   ]
  },
  {
   "cell_type": "code",
   "execution_count": 18,
   "id": "70a76caf-c00d-407e-adb0-84e7aa188245",
   "metadata": {},
   "outputs": [],
   "source": [
    "raceid_grp = df.groupby('raceId')"
   ]
  },
  {
   "cell_type": "code",
   "execution_count": 19,
   "id": "876fa966-7fe4-41cb-b935-cf45bc4a6ea7",
   "metadata": {},
   "outputs": [
    {
     "data": {
      "text/plain": [
       "raceId\n",
       "1       86041.75\n",
       "2       95295.75\n",
       "3       96447.30\n",
       "4       93403.20\n",
       "5       81080.40\n",
       "          ...   \n",
       "1128    71852.70\n",
       "1129    73164.50\n",
       "1130    72681.05\n",
       "1131    65598.25\n",
       "1132    92170.25\n",
       "Name: q1_total_milliseconds, Length: 482, dtype: float64"
      ]
     },
     "execution_count": 19,
     "metadata": {},
     "output_type": "execute_result"
    }
   ],
   "source": [
    "x = raceid_grp['q1_total_milliseconds'].mean()\n",
    "x"
   ]
  },
  {
   "cell_type": "markdown",
   "id": "e5a6bc86-3f08-4bef-9c81-e0d8c8523c16",
   "metadata": {},
   "source": [
    "## Driver positions"
   ]
  },
  {
   "cell_type": "code",
   "execution_count": 21,
   "id": "e99d7c97-05ec-45c8-86fc-4cfa49838f78",
   "metadata": {},
   "outputs": [],
   "source": [
    "driverid_grp = df.groupby('driverId')"
   ]
  },
  {
   "cell_type": "code",
   "execution_count": 22,
   "id": "bd21ca10-90af-4e36-84ca-15a80dcebdd1",
   "metadata": {},
   "outputs": [
    {
     "data": {
      "text/plain": [
       "driverId       \n",
       "1         0         1.000000\n",
       "          25        2.500000\n",
       "          46        2.666667\n",
       "          70        4.000000\n",
       "          90        3.666667\n",
       "                     ...    \n",
       "859       9846     16.000000\n",
       "          9864     14.000000\n",
       "          9885     11.000000\n",
       "          9912     13.000000\n",
       "860       10045    11.000000\n",
       "Name: position, Length: 10254, dtype: float64"
      ]
     },
     "execution_count": 22,
     "metadata": {},
     "output_type": "execute_result"
    }
   ],
   "source": [
    "driverid_grp['position'].rolling(window=3, min_periods=1).mean()"
   ]
  },
  {
   "cell_type": "markdown",
   "id": "7279eeec-e1ac-46b0-999f-4f346c811cf2",
   "metadata": {},
   "source": [
    "## Constructor standings"
   ]
  },
  {
   "cell_type": "code",
   "execution_count": 24,
   "id": "de53c5d8-8d7a-4a81-981d-309d72604369",
   "metadata": {},
   "outputs": [],
   "source": [
    "constr_grp = df.groupby('constructorId')"
   ]
  },
  {
   "cell_type": "code",
   "execution_count": 25,
   "id": "426ea333-3edd-410f-a3e0-1729074b6bc6",
   "metadata": {},
   "outputs": [],
   "source": [
    "def points(position):\n",
    "    if position == 1:\n",
    "        return 25\n",
    "    elif position == 2:\n",
    "        return 18\n",
    "    elif position == 3:\n",
    "        return 15\n",
    "    elif position == 4:\n",
    "        return 10\n",
    "    else:\n",
    "        return 1"
   ]
  },
  {
   "cell_type": "code",
   "execution_count": 26,
   "id": "cc40b054-9f00-4bc6-b0b3-4b81e3cd8b7a",
   "metadata": {},
   "outputs": [],
   "source": [
    "df['points'] = df['position'].apply(points)"
   ]
  },
  {
   "cell_type": "code",
   "execution_count": 27,
   "id": "03fc3825-4f91-4e4c-8944-0ef31a31afcc",
   "metadata": {},
   "outputs": [
    {
     "data": {
      "text/plain": [
       "constructorId\n",
       "1      5103\n",
       "2       345\n",
       "3      3775\n",
       "4      1673\n",
       "5       566\n",
       "6      8252\n",
       "7       632\n",
       "8        78\n",
       "9      6622\n",
       "10      577\n",
       "11      265\n",
       "12       34\n",
       "13       28\n",
       "14        8\n",
       "15      755\n",
       "16      449\n",
       "17      377\n",
       "18      238\n",
       "19      141\n",
       "20       73\n",
       "21       52\n",
       "22      803\n",
       "23      337\n",
       "24       77\n",
       "25      111\n",
       "27       78\n",
       "28       42\n",
       "29       78\n",
       "30       40\n",
       "31       37\n",
       "32       39\n",
       "33       30\n",
       "51      207\n",
       "117     282\n",
       "131    6992\n",
       "164     115\n",
       "166      76\n",
       "205      76\n",
       "206     118\n",
       "207     112\n",
       "208     325\n",
       "209      66\n",
       "210     414\n",
       "211     178\n",
       "213     211\n",
       "214     191\n",
       "215      24\n",
       "Name: points, dtype: int64"
      ]
     },
     "execution_count": 27,
     "metadata": {},
     "output_type": "execute_result"
    }
   ],
   "source": [
    "constr_grp['points'].sum()"
   ]
  },
  {
   "cell_type": "markdown",
   "id": "720d947b-5cca-4fd4-9c07-0b3ac32425b7",
   "metadata": {},
   "source": [
    "## Fastest lap time"
   ]
  },
  {
   "cell_type": "code",
   "execution_count": 29,
   "id": "72e59845-5a2e-42e2-8d3e-553c29898a88",
   "metadata": {},
   "outputs": [],
   "source": [
    "df['fastest_lap'] = df[['q1_total_milliseconds', 'q2_total_milliseconds', 'q2_total_milliseconds']].min(axis=1)"
   ]
  },
  {
   "cell_type": "code",
   "execution_count": 30,
   "id": "c1369743-050f-4684-ad60-f82252917fca",
   "metadata": {},
   "outputs": [
    {
     "data": {
      "text/html": [
       "<div>\n",
       "<style scoped>\n",
       "    .dataframe tbody tr th:only-of-type {\n",
       "        vertical-align: middle;\n",
       "    }\n",
       "\n",
       "    .dataframe tbody tr th {\n",
       "        vertical-align: top;\n",
       "    }\n",
       "\n",
       "    .dataframe thead th {\n",
       "        text-align: right;\n",
       "    }\n",
       "</style>\n",
       "<table border=\"1\" class=\"dataframe\">\n",
       "  <thead>\n",
       "    <tr style=\"text-align: right;\">\n",
       "      <th></th>\n",
       "      <th>raceId</th>\n",
       "      <th>fastest_lap</th>\n",
       "    </tr>\n",
       "    <tr>\n",
       "      <th>raceId</th>\n",
       "      <th></th>\n",
       "      <th></th>\n",
       "    </tr>\n",
       "  </thead>\n",
       "  <tbody>\n",
       "    <tr>\n",
       "      <th>1</th>\n",
       "      <td>1</td>\n",
       "      <td>84783.000000</td>\n",
       "    </tr>\n",
       "    <tr>\n",
       "      <th>2</th>\n",
       "      <td>2</td>\n",
       "      <td>93784.000000</td>\n",
       "    </tr>\n",
       "    <tr>\n",
       "      <th>3</th>\n",
       "      <td>3</td>\n",
       "      <td>93258.000000</td>\n",
       "    </tr>\n",
       "    <tr>\n",
       "      <th>4</th>\n",
       "      <td>4</td>\n",
       "      <td>82483.500000</td>\n",
       "    </tr>\n",
       "    <tr>\n",
       "      <th>5</th>\n",
       "      <td>5</td>\n",
       "      <td>76024.500000</td>\n",
       "    </tr>\n",
       "    <tr>\n",
       "      <th>...</th>\n",
       "      <td>...</td>\n",
       "      <td>...</td>\n",
       "    </tr>\n",
       "    <tr>\n",
       "      <th>1128</th>\n",
       "      <td>1128</td>\n",
       "      <td>70732.000000</td>\n",
       "    </tr>\n",
       "    <tr>\n",
       "      <th>1129</th>\n",
       "      <td>1129</td>\n",
       "      <td>71742.000000</td>\n",
       "    </tr>\n",
       "    <tr>\n",
       "      <th>1130</th>\n",
       "      <td>1130</td>\n",
       "      <td>65847.166667</td>\n",
       "    </tr>\n",
       "    <tr>\n",
       "      <th>1131</th>\n",
       "      <td>1131</td>\n",
       "      <td>64469.000000</td>\n",
       "    </tr>\n",
       "    <tr>\n",
       "      <th>1132</th>\n",
       "      <td>1132</td>\n",
       "      <td>86559.000000</td>\n",
       "    </tr>\n",
       "  </tbody>\n",
       "</table>\n",
       "<p>482 rows × 2 columns</p>\n",
       "</div>"
      ],
      "text/plain": [
       "        raceId   fastest_lap\n",
       "raceId                      \n",
       "1            1  84783.000000\n",
       "2            2  93784.000000\n",
       "3            3  93258.000000\n",
       "4            4  82483.500000\n",
       "5            5  76024.500000\n",
       "...        ...           ...\n",
       "1128      1128  70732.000000\n",
       "1129      1129  71742.000000\n",
       "1130      1130  65847.166667\n",
       "1131      1131  64469.000000\n",
       "1132      1132  86559.000000\n",
       "\n",
       "[482 rows x 2 columns]"
      ]
     },
     "execution_count": 30,
     "metadata": {},
     "output_type": "execute_result"
    }
   ],
   "source": [
    "fastest_lap = raceid_grp[['raceId','fastest_lap']].min()\n",
    "fastest_lap"
   ]
  },
  {
   "cell_type": "markdown",
   "id": "a7b8941b-29f6-44a9-ba3f-2c8251609398",
   "metadata": {},
   "source": [
    "## Driver lap time"
   ]
  },
  {
   "cell_type": "code",
   "execution_count": 32,
   "id": "2284a76d-4b3c-4445-916c-2ef8cb60b470",
   "metadata": {},
   "outputs": [],
   "source": [
    "df['average_time'] = df[['q1_total_milliseconds', 'q2_total_milliseconds', 'q2_total_milliseconds']].mean(axis=1)"
   ]
  },
  {
   "cell_type": "code",
   "execution_count": 33,
   "id": "669b5263-c32f-4ebd-bdbd-2b8646c06292",
   "metadata": {},
   "outputs": [
    {
     "data": {
      "text/plain": [
       "driverId\n",
       "1      87721.558066\n",
       "2      87118.286927\n",
       "3      89722.524079\n",
       "4      87982.860108\n",
       "5      90499.098929\n",
       "           ...     \n",
       "856    83287.903319\n",
       "857    83419.057423\n",
       "858    85119.735450\n",
       "859    87079.533333\n",
       "860    88756.000000\n",
       "Name: average_time, Length: 170, dtype: float64"
      ]
     },
     "execution_count": 33,
     "metadata": {},
     "output_type": "execute_result"
    }
   ],
   "source": [
    "driverid_grp['average_time'].apply(lambda x: x.sort_values().mean())"
   ]
  },
  {
   "cell_type": "code",
   "execution_count": 34,
   "id": "92318527-7198-44f9-b0bd-2e2213a9998a",
   "metadata": {},
   "outputs": [
    {
     "data": {
      "text/plain": [
       "87118.28692748949"
      ]
     },
     "execution_count": 34,
     "metadata": {},
     "output_type": "execute_result"
    }
   ],
   "source": [
    "df[df['driverId']==2]['average_time'].mean()"
   ]
  },
  {
   "cell_type": "code",
   "execution_count": null,
   "id": "2d80662b-3cea-452a-b6d6-328f6d75a5e7",
   "metadata": {},
   "outputs": [],
   "source": []
  }
 ],
 "metadata": {
  "kernelspec": {
   "display_name": "Python 3 (ipykernel)",
   "language": "python",
   "name": "python3"
  },
  "language_info": {
   "codemirror_mode": {
    "name": "ipython",
    "version": 3
   },
   "file_extension": ".py",
   "mimetype": "text/x-python",
   "name": "python",
   "nbconvert_exporter": "python",
   "pygments_lexer": "ipython3",
   "version": "3.12.7"
  }
 },
 "nbformat": 4,
 "nbformat_minor": 5
}
