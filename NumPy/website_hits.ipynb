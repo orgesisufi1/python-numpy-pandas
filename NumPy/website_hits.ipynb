{
 "cells": [
  {
   "cell_type": "code",
   "execution_count": 1,
   "id": "170f73de-f87e-442a-bd2a-5a6cb4984e4e",
   "metadata": {},
   "outputs": [],
   "source": [
    "import numpy as np"
   ]
  },
  {
   "cell_type": "code",
   "execution_count": 3,
   "id": "2f7b2fbd-57c2-4487-828c-eb695cc3e7bc",
   "metadata": {},
   "outputs": [
    {
     "data": {
      "text/plain": [
       "array([[1, 1, 1, 1, 1, 1],\n",
       "       [1, 0, 0, 0, 0, 1],\n",
       "       [1, 0, 0, 0, 0, 1],\n",
       "       [1, 0, 0, 0, 0, 1],\n",
       "       [1, 0, 0, 0, 0, 1],\n",
       "       [1, 1, 1, 1, 1, 1]], dtype=int32)"
      ]
     },
     "execution_count": 3,
     "metadata": {},
     "output_type": "execute_result"
    }
   ],
   "source": [
    "ones = np.ones((6,6), dtype='int32')\n",
    "ones[1:-1, 1:-1] = 0\n",
    "ones"
   ]
  },
  {
   "cell_type": "code",
   "execution_count": 5,
   "id": "5621dc9f-e52e-4f5e-b0c9-e45a2cabca36",
   "metadata": {},
   "outputs": [
    {
     "data": {
      "text/plain": [
       "array([20, 40, 30, 10, 50])"
      ]
     },
     "execution_count": 5,
     "metadata": {},
     "output_type": "execute_result"
    }
   ],
   "source": [
    "arr_permutatuion = np.random.permutation([10, 20, 30, 40, 50])\n",
    "gen = np.random.permutation(arr_permutatuion)\n",
    "gen"
   ]
  },
  {
   "cell_type": "code",
   "execution_count": 9,
   "id": "14c14a64-e923-4473-9c1b-fd379c2af64c",
   "metadata": {},
   "outputs": [
    {
     "data": {
      "text/plain": [
       "array([[-0.63970927, -0.35612571, -0.57452572],\n",
       "       [-0.52883718,  1.30186835,  0.96120275]])"
      ]
     },
     "execution_count": 9,
     "metadata": {},
     "output_type": "execute_result"
    }
   ],
   "source": [
    "random_dist = np.random.normal(0,1, (2,3))\n",
    "random_dist"
   ]
  },
  {
   "cell_type": "code",
   "execution_count": 11,
   "id": "6f9f09e1-84e6-4b21-a552-612a1213f586",
   "metadata": {},
   "outputs": [
    {
     "data": {
      "text/plain": [
       "array([101, 101,  91,  91,  96, 109,  89, 129, 101, 103,  96,  87,  88,\n",
       "       111,  89,  98, 103, 116,  95, 116,  90, 115,  98, 104, 101, 108,\n",
       "       110,  87,  89, 120])"
      ]
     },
     "execution_count": 11,
     "metadata": {},
     "output_type": "execute_result"
    }
   ],
   "source": [
    "web_hits = np.random.poisson(lam=100, size=30)\n",
    "web_hits"
   ]
  },
  {
   "cell_type": "code",
   "execution_count": 13,
   "id": "212560ab-3473-45db-a4eb-8001b832c755",
   "metadata": {},
   "outputs": [
    {
     "data": {
      "text/plain": [
       "array([[23, 22, 19, 24, 20, 22, 22, 21, 14, 18, 18, 22, 26, 26, 16, 21,\n",
       "        15, 22, 29, 27, 21, 14, 19, 25],\n",
       "       [18, 21, 19, 23, 27, 23, 24, 18, 22, 13, 23, 16, 13, 23, 14, 16,\n",
       "        17, 24, 24, 23, 22, 17, 19, 16],\n",
       "       [16, 12, 21, 23, 24, 26, 17, 19, 13, 23, 22, 19, 23, 18, 18, 26,\n",
       "        18, 27, 30, 22, 17, 14, 24, 24],\n",
       "       [15, 19, 18, 16, 23, 16, 18, 23, 20, 31, 17, 16, 20, 18, 16, 19,\n",
       "        12, 18, 24, 20, 23, 15, 24, 17],\n",
       "       [18, 22, 16, 11, 16, 31, 13, 18, 15, 24, 10, 22, 20, 28, 24, 17,\n",
       "        18, 20, 30, 18, 15, 18, 20, 23],\n",
       "       [24, 16, 19, 23, 18, 16, 18, 14, 21, 20, 25, 19, 26, 18, 29, 22,\n",
       "        30, 27, 16, 18, 24, 24, 15, 25],\n",
       "       [21, 22, 31, 20, 16, 15, 22, 23, 17, 16, 19, 18, 30, 12, 18, 18,\n",
       "        23, 21, 22, 24, 21, 25, 23, 18]])"
      ]
     },
     "execution_count": 13,
     "metadata": {},
     "output_type": "execute_result"
    }
   ],
   "source": [
    "average_hits = 20\n",
    "days=7\n",
    "hours=24\n",
    "web_hits_7 = np.random.poisson(lam=average_hits, size=(days,hours))\n",
    "web_hits_7"
   ]
  },
  {
   "cell_type": "code",
   "execution_count": 15,
   "id": "0f39444b-93b0-4d75-9d53-d0854cb06c59",
   "metadata": {},
   "outputs": [
    {
     "data": {
      "text/plain": [
       "array([[21.08333333],\n",
       "       [19.79166667],\n",
       "       [20.66666667],\n",
       "       [19.08333333],\n",
       "       [19.45833333],\n",
       "       [21.125     ],\n",
       "       [20.625     ]])"
      ]
     },
     "execution_count": 15,
     "metadata": {},
     "output_type": "execute_result"
    }
   ],
   "source": [
    "average_day = np.average(web_hits_7,axis=1,keepdims=True)\n",
    "average_day"
   ]
  },
  {
   "cell_type": "code",
   "execution_count": 17,
   "id": "6e15fb7c-2592-476e-9a5d-cacd61c6e7fa",
   "metadata": {},
   "outputs": [
    {
     "data": {
      "text/plain": [
       "array([[506],\n",
       "       [475],\n",
       "       [496],\n",
       "       [458],\n",
       "       [467],\n",
       "       [507],\n",
       "       [495]])"
      ]
     },
     "execution_count": 17,
     "metadata": {},
     "output_type": "execute_result"
    }
   ],
   "source": [
    "sum_day = np.sum(web_hits_7, axis=1, keepdims=True)\n",
    "sum_day"
   ]
  },
  {
   "cell_type": "code",
   "execution_count": 19,
   "id": "e379c45c-0d8b-4978-b96f-50a84802f1b2",
   "metadata": {},
   "outputs": [
    {
     "name": "stdout",
     "output_type": "stream",
     "text": [
      "Daily average: 21.083333333333332\n",
      "Daily average: 19.791666666666668\n",
      "Daily average: 20.666666666666668\n",
      "Daily average: 19.083333333333332\n",
      "Daily average: 19.458333333333332\n",
      "Daily average: 21.125\n",
      "Daily average: 20.625\n",
      "Daily sum: 506\n",
      "Daily sum: 475\n",
      "Daily sum: 496\n",
      "Daily sum: 458\n",
      "Daily sum: 467\n",
      "Daily sum: 507\n",
      "Daily sum: 495\n"
     ]
    }
   ],
   "source": [
    "for i in web_hits_7:\n",
    "    print(f\"Daily average: {np.average(i)}\")\n",
    "\n",
    "for i in web_hits_7:\n",
    "    print(f\"Daily sum: {np.sum(i)}\")"
   ]
  },
  {
   "cell_type": "code",
   "execution_count": null,
   "id": "2b880c76-8ea8-4c6c-be2a-9f1ba880f0d4",
   "metadata": {},
   "outputs": [],
   "source": []
  }
 ],
 "metadata": {
  "kernelspec": {
   "display_name": "Python 3 (ipykernel)",
   "language": "python",
   "name": "python3"
  },
  "language_info": {
   "codemirror_mode": {
    "name": "ipython",
    "version": 3
   },
   "file_extension": ".py",
   "mimetype": "text/x-python",
   "name": "python",
   "nbconvert_exporter": "python",
   "pygments_lexer": "ipython3",
   "version": "3.12.7"
  }
 },
 "nbformat": 4,
 "nbformat_minor": 5
}
